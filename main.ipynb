{
 "cells": [
  {
   "cell_type": "markdown",
   "id": "b15a450d",
   "metadata": {},
   "source": [
    "## 1. Business Understanding"
   ]
  },
  {
   "cell_type": "markdown",
   "id": "a9626a74",
   "metadata": {},
   "source": [
    "This project aims to find the lifetime value of electronic product which both sells and manufature by Aamazon. The dataset contain the review from the people who brought the prodcut, can use for sentiment analyze to how the customer think about the it. Marketing teams, product development teams and quality assurance teams can be a department which be benefited from this result of analyize, can use to improve the product and all the process related to it. It also can use this data to help them produce or market the product that the target customer will like."
   ]
  },
  {
   "cell_type": "markdown",
   "id": "19c0dd2e",
   "metadata": {},
   "source": [
    "## 2. Data Understanding"
   ]
  },
  {
   "cell_type": "markdown",
   "id": "81e054f7",
   "metadata": {},
   "source": []
  },
  {
   "cell_type": "code",
   "execution_count": 7,
   "id": "b50556eb",
   "metadata": {},
   "outputs": [
    {
     "name": "stdout",
     "output_type": "stream",
     "text": [
      "Path to dataset files: /Users/danelkai/.cache/kagglehub/datasets/datafiniti/consumer-reviews-of-amazon-products/versions/5\n"
     ]
    }
   ],
   "source": [
    "import kagglehub\n",
    "import pandas as pd\n",
    "import os\n",
    "\n",
    "# Download latest version\n",
    "path = kagglehub.dataset_download(\"datafiniti/consumer-reviews-of-amazon-products\")\n",
    "\n",
    "print(\"Path to dataset files:\", path)"
   ]
  },
  {
   "cell_type": "code",
   "execution_count": 8,
   "id": "d051ddc0",
   "metadata": {},
   "outputs": [],
   "source": [
    "df1 = pd.read_csv(os.path.join(path, '1429_1.csv'), low_memory=False)\n",
    "df2 = pd.read_csv(os.path.join(path, 'Datafiniti_Amazon_Consumer_Reviews_of_Amazon_Products_May19.csv'))\n",
    "df3 = pd.read_csv(os.path.join(path, 'Datafiniti_Amazon_Consumer_Reviews_of_Amazon_Products.csv'))"
   ]
  },
  {
   "cell_type": "code",
   "execution_count": 9,
   "id": "b8f23142",
   "metadata": {},
   "outputs": [
    {
     "name": "stdout",
     "output_type": "stream",
     "text": [
      "<class 'pandas.core.frame.DataFrame'>\n",
      "RangeIndex: 34660 entries, 0 to 34659\n",
      "Data columns (total 21 columns):\n",
      " #   Column                Non-Null Count  Dtype  \n",
      "---  ------                --------------  -----  \n",
      " 0   id                    34660 non-null  object \n",
      " 1   name                  27900 non-null  object \n",
      " 2   asins                 34658 non-null  object \n",
      " 3   brand                 34660 non-null  object \n",
      " 4   categories            34660 non-null  object \n",
      " 5   keys                  34660 non-null  object \n",
      " 6   manufacturer          34660 non-null  object \n",
      " 7   reviews.date          34621 non-null  object \n",
      " 8   reviews.dateAdded     24039 non-null  object \n",
      " 9   reviews.dateSeen      34660 non-null  object \n",
      " 10  reviews.didPurchase   1 non-null      object \n",
      " 11  reviews.doRecommend   34066 non-null  object \n",
      " 12  reviews.id            1 non-null      float64\n",
      " 13  reviews.numHelpful    34131 non-null  float64\n",
      " 14  reviews.rating        34627 non-null  float64\n",
      " 15  reviews.sourceURLs    34660 non-null  object \n",
      " 16  reviews.text          34659 non-null  object \n",
      " 17  reviews.title         34654 non-null  object \n",
      " 18  reviews.userCity      0 non-null      float64\n",
      " 19  reviews.userProvince  0 non-null      float64\n",
      " 20  reviews.username      34653 non-null  object \n",
      "dtypes: float64(5), object(16)\n",
      "memory usage: 5.6+ MB\n"
     ]
    }
   ],
   "source": [
    "df1.info()"
   ]
  },
  {
   "cell_type": "code",
   "execution_count": 10,
   "id": "5a26cc0f",
   "metadata": {},
   "outputs": [
    {
     "name": "stdout",
     "output_type": "stream",
     "text": [
      "<class 'pandas.core.frame.DataFrame'>\n",
      "RangeIndex: 28332 entries, 0 to 28331\n",
      "Data columns (total 24 columns):\n",
      " #   Column               Non-Null Count  Dtype  \n",
      "---  ------               --------------  -----  \n",
      " 0   id                   28332 non-null  object \n",
      " 1   dateAdded            28332 non-null  object \n",
      " 2   dateUpdated          28332 non-null  object \n",
      " 3   name                 28332 non-null  object \n",
      " 4   asins                28332 non-null  object \n",
      " 5   brand                28332 non-null  object \n",
      " 6   categories           28332 non-null  object \n",
      " 7   primaryCategories    28332 non-null  object \n",
      " 8   imageURLs            28332 non-null  object \n",
      " 9   keys                 28332 non-null  object \n",
      " 10  manufacturer         28332 non-null  object \n",
      " 11  manufacturerNumber   28332 non-null  object \n",
      " 12  reviews.date         28332 non-null  object \n",
      " 13  reviews.dateSeen     28332 non-null  object \n",
      " 14  reviews.didPurchase  9 non-null      object \n",
      " 15  reviews.doRecommend  16086 non-null  object \n",
      " 16  reviews.id           41 non-null     float64\n",
      " 17  reviews.numHelpful   16115 non-null  float64\n",
      " 18  reviews.rating       28332 non-null  int64  \n",
      " 19  reviews.sourceURLs   28332 non-null  object \n",
      " 20  reviews.text         28332 non-null  object \n",
      " 21  reviews.title        28332 non-null  object \n",
      " 22  reviews.username     28327 non-null  object \n",
      " 23  sourceURLs           28332 non-null  object \n",
      "dtypes: float64(2), int64(1), object(21)\n",
      "memory usage: 5.2+ MB\n"
     ]
    }
   ],
   "source": [
    "df2.info()"
   ]
  },
  {
   "cell_type": "code",
   "execution_count": 11,
   "id": "a439be3d",
   "metadata": {},
   "outputs": [
    {
     "name": "stdout",
     "output_type": "stream",
     "text": [
      "<class 'pandas.core.frame.DataFrame'>\n",
      "RangeIndex: 5000 entries, 0 to 4999\n",
      "Data columns (total 24 columns):\n",
      " #   Column               Non-Null Count  Dtype  \n",
      "---  ------               --------------  -----  \n",
      " 0   id                   5000 non-null   object \n",
      " 1   dateAdded            5000 non-null   object \n",
      " 2   dateUpdated          5000 non-null   object \n",
      " 3   name                 5000 non-null   object \n",
      " 4   asins                5000 non-null   object \n",
      " 5   brand                5000 non-null   object \n",
      " 6   categories           5000 non-null   object \n",
      " 7   primaryCategories    5000 non-null   object \n",
      " 8   imageURLs            5000 non-null   object \n",
      " 9   keys                 5000 non-null   object \n",
      " 10  manufacturer         5000 non-null   object \n",
      " 11  manufacturerNumber   5000 non-null   object \n",
      " 12  reviews.date         5000 non-null   object \n",
      " 13  reviews.dateAdded    1052 non-null   object \n",
      " 14  reviews.dateSeen     5000 non-null   object \n",
      " 15  reviews.doRecommend  5000 non-null   bool   \n",
      " 16  reviews.id           29 non-null     float64\n",
      " 17  reviews.numHelpful   5000 non-null   int64  \n",
      " 18  reviews.rating       5000 non-null   int64  \n",
      " 19  reviews.sourceURLs   5000 non-null   object \n",
      " 20  reviews.text         5000 non-null   object \n",
      " 21  reviews.title        4987 non-null   object \n",
      " 22  reviews.username     4999 non-null   object \n",
      " 23  sourceURLs           5000 non-null   object \n",
      "dtypes: bool(1), float64(1), int64(2), object(20)\n",
      "memory usage: 903.4+ KB\n"
     ]
    }
   ],
   "source": [
    "df3.info()"
   ]
  },
  {
   "cell_type": "code",
   "execution_count": 13,
   "id": "2f61e786",
   "metadata": {},
   "outputs": [],
   "source": [
    "master_df = pd.concat([df1, df2, df3], ignore_index=True)"
   ]
  },
  {
   "cell_type": "code",
   "execution_count": 18,
   "id": "384e93dc",
   "metadata": {},
   "outputs": [],
   "source": [
    "master_df.drop_duplicates(subset=['reviews.username', 'reviews.text', 'reviews.rating'], inplace=True)"
   ]
  },
  {
   "cell_type": "code",
   "execution_count": 19,
   "id": "0573aec1",
   "metadata": {},
   "outputs": [
    {
     "name": "stdout",
     "output_type": "stream",
     "text": [
      "Master DataFrame Info:\n",
      "<class 'pandas.core.frame.DataFrame'>\n",
      "Index: 48099 entries, 0 to 66412\n",
      "Data columns (total 27 columns):\n",
      " #   Column                Non-Null Count  Dtype  \n",
      "---  ------                --------------  -----  \n",
      " 0   id                    48099 non-null  object \n",
      " 1   name                  41339 non-null  object \n",
      " 2   asins                 48097 non-null  object \n",
      " 3   brand                 48099 non-null  object \n",
      " 4   categories            48099 non-null  object \n",
      " 5   keys                  48099 non-null  object \n",
      " 6   manufacturer          48099 non-null  object \n",
      " 7   reviews.date          48060 non-null  object \n",
      " 8   reviews.dateAdded     24039 non-null  object \n",
      " 9   reviews.dateSeen      48099 non-null  object \n",
      " 10  reviews.didPurchase   10 non-null     object \n",
      " 11  reviews.doRecommend   37319 non-null  object \n",
      " 12  reviews.id            65 non-null     float64\n",
      " 13  reviews.numHelpful    37407 non-null  float64\n",
      " 14  reviews.rating        48066 non-null  float64\n",
      " 15  reviews.sourceURLs    48099 non-null  object \n",
      " 16  reviews.text          48098 non-null  object \n",
      " 17  reviews.title         48082 non-null  object \n",
      " 18  reviews.userCity      0 non-null      float64\n",
      " 19  reviews.userProvince  0 non-null      float64\n",
      " 20  reviews.username      48092 non-null  object \n",
      " 21  dateAdded             13439 non-null  object \n",
      " 22  dateUpdated           13439 non-null  object \n",
      " 23  primaryCategories     13439 non-null  object \n",
      " 24  imageURLs             13439 non-null  object \n",
      " 25  manufacturerNumber    13439 non-null  object \n",
      " 26  sourceURLs            13439 non-null  object \n",
      "dtypes: float64(5), object(22)\n",
      "memory usage: 10.3+ MB\n"
     ]
    }
   ],
   "source": [
    "print(\"Master DataFrame Info:\")\n",
    "master_df.info()"
   ]
  },
  {
   "cell_type": "code",
   "execution_count": 20,
   "id": "ff67025a",
   "metadata": {},
   "outputs": [],
   "source": [
    "master_df.to_csv('amazon_reviews_master.csv', index=False)"
   ]
  },
  {
   "cell_type": "code",
   "execution_count": 25,
   "id": "88e4932c",
   "metadata": {},
   "outputs": [
    {
     "data": {
      "text/plain": [
       "id                          0\n",
       "name                     6760\n",
       "asins                       2\n",
       "brand                       0\n",
       "categories                  0\n",
       "keys                        0\n",
       "manufacturer                0\n",
       "reviews.date               39\n",
       "reviews.dateAdded       24060\n",
       "reviews.dateSeen            0\n",
       "reviews.didPurchase     48089\n",
       "reviews.doRecommend     10780\n",
       "reviews.id              48034\n",
       "reviews.numHelpful      10692\n",
       "reviews.rating             33\n",
       "reviews.sourceURLs          0\n",
       "reviews.text                1\n",
       "reviews.title              17\n",
       "reviews.userCity        48099\n",
       "reviews.userProvince    48099\n",
       "reviews.username            7\n",
       "dateAdded               34660\n",
       "dateUpdated             34660\n",
       "primaryCategories       34660\n",
       "imageURLs               34660\n",
       "manufacturerNumber      34660\n",
       "sourceURLs              34660\n",
       "dtype: int64"
      ]
     },
     "execution_count": 25,
     "metadata": {},
     "output_type": "execute_result"
    }
   ],
   "source": [
    "master_df.isna().sum()"
   ]
  },
  {
   "cell_type": "markdown",
   "id": "d010f406",
   "metadata": {},
   "source": []
  }
 ],
 "metadata": {
  "kernelspec": {
   "display_name": "CDA",
   "language": "python",
   "name": "python3"
  },
  "language_info": {
   "codemirror_mode": {
    "name": "ipython",
    "version": 3
   },
   "file_extension": ".py",
   "mimetype": "text/x-python",
   "name": "python",
   "nbconvert_exporter": "python",
   "pygments_lexer": "ipython3",
   "version": "3.12.11"
  }
 },
 "nbformat": 4,
 "nbformat_minor": 5
}
